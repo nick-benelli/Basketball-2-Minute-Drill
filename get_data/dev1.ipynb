{
 "cells": [
  {
   "cell_type": "code",
   "execution_count": 1,
   "metadata": {},
   "outputs": [],
   "source": [
    "from nba_api.live.nba.endpoints import scoreboard\n",
    "import json\n"
   ]
  },
  {
   "cell_type": "code",
   "execution_count": 7,
   "metadata": {},
   "outputs": [],
   "source": [
    "def get_todays_completed_games():\n",
    "    # Today's Score Board\n",
    "    games = scoreboard.ScoreBoard()\n",
    "    live_games_data = games.get_dict()\n",
    "    live_games_data['scoreboard']\n",
    "    games = live_games_data['scoreboard']['games']\n",
    "\n",
    "    print(f\"Number of total games : {len(games)}\")\n",
    "    # display(games)\n",
    "\n",
    "    print(\"All of Today's Games\")\n",
    "    for i, game in enumerate(games):\n",
    "        print(\n",
    "            i, game['gameId'], game['homeTeam']['teamTricode'], game['awayTeam']['teamTricode'], \n",
    "            game['gameStatus'],\n",
    "            game['gameStatusText']\n",
    "        )\n",
    "\n",
    "    print(\"\\nGampes Completed\")\n",
    "    finished_games = []\n",
    "    game_keys = ['gameId']\n",
    "    for i, game in enumerate(games):\n",
    "        if game['gameStatus'] == 3:\n",
    "            print(i, game['gameId'], game['homeTeam']['teamTricode'], game['awayTeam']['teamTricode'])\n",
    "            finished_games.append({\n",
    "                'gameId' : game['gameId'],\n",
    "                'homeTeamTricode' : game['homeTeam']['teamTricode'],\n",
    "                'awayTeamTricode' : game['awayTeam']['teamTricode'], \n",
    "            })\n",
    "\n",
    "    return finished_games"
   ]
  },
  {
   "cell_type": "code",
   "execution_count": 8,
   "metadata": {},
   "outputs": [
    {
     "name": "stdout",
     "output_type": "stream",
     "text": [
      "Number of total games : 12\n",
      "All of Today's Games\n",
      "0 0022301070 SAS NYK 3 Final\n",
      "1 0022301073 SAC DAL 2 Half\n",
      "2 0022301071 DEN MIN 2 Q4 4:39\n",
      "3 0022301062 CHA GSW 3 Final\n",
      "4 0022301063 IND LAL 3 Final\n",
      "5 0022301064 ORL LAC 3 Final\n",
      "6 0022301065 WAS DET 3 Final\n",
      "7 0022301066 BKN CHI 3 Final\n",
      "8 0022301067 CLE PHI 3 Final\n",
      "9 0022301068 MIA POR 3 Final               \n",
      "10 0022301069 OKC PHX 3 Final\n",
      "11 0022301072 UTA HOU 2 2nd Qtr             \n",
      "\n",
      "Gampes Completed\n",
      "0 0022301070 SAS NYK\n",
      "3 0022301062 CHA GSW\n",
      "4 0022301063 IND LAL\n",
      "5 0022301064 ORL LAC\n",
      "6 0022301065 WAS DET\n",
      "7 0022301066 BKN CHI\n",
      "8 0022301067 CLE PHI\n",
      "9 0022301068 MIA POR\n",
      "10 0022301069 OKC PHX\n"
     ]
    }
   ],
   "source": [
    "games = get_todays_completed_games()"
   ]
  },
  {
   "cell_type": "code",
   "execution_count": 12,
   "metadata": {},
   "outputs": [],
   "source": [
    "from nba_api.stats.endpoints import playbyplayv2\n",
    "import datetime"
   ]
  },
  {
   "cell_type": "code",
   "execution_count": 23,
   "metadata": {},
   "outputs": [],
   "source": [
    "# Function to convert PCTIMESTRING to timedelta\n",
    "def convert_to_timedelta(time_string):\n",
    "    minutes, seconds = map(int, time_string.split(':'))\n",
    "    return datetime.timedelta(minutes=minutes, seconds=seconds)\n",
    "\n",
    "def time_last_two_minutes(game_id):\n",
    "    # Game ID for the game you're interested in\n",
    "    # Get play-by-play data for the game\n",
    "    pbp = playbyplayv2.PlayByPlayV2(game_id=game_id)\n",
    "\n",
    "    # Parse play-by-play data\n",
    "    play_by_play = pbp.get_data_frames()[0]\n",
    "\n",
    "    # Print available columns to identify the relevant column for filtering\n",
    "    # print(\"Available columns:\", play_by_play.columns)\n",
    "\n",
    "    # Convert 'PCTIMESTRING' to timedelta objects\n",
    "    play_by_play['PCTIME'] = play_by_play['PCTIMESTRING'].apply(convert_to_timedelta)\n",
    "\n",
    "    play_by_play['PCTIME']\n",
    "\n",
    "    # Assuming the 'PCTIMESTRING' column represents the game clock\n",
    "    # Filter events for the last two minutes of the game\n",
    "    last_two_minutes = play_by_play[\n",
    "        (play_by_play['PERIOD'] == 4) &  # Filter for the fourth quarter\n",
    "        (play_by_play['PCTIME'] <= datetime.timedelta(minutes=2))  # Filter for the last two minutes\n",
    "    ]\n",
    "\n",
    "    last_two_min_idx = play_by_play[\n",
    "        (play_by_play['PERIOD'] == 4) &  # Filter for the fourth quarter\n",
    "        (play_by_play['PCTIME'] <= datetime.timedelta(minutes=2))  # Filter for the last two minutes\n",
    "    ].index\n",
    "\n",
    "    last_two_minute_index_plus1 = ([last_two_min_idx[0] - 1] + list(last_two_min_idx))\n",
    "\n",
    "    last_two_minutes = play_by_play.loc[ last_two_minute_index_plus1]\n",
    "\n",
    "    last_two_minutes\n",
    "\n",
    "\n",
    "\n",
    "    if not last_two_minutes.empty:\n",
    "        # Find the real-time when the game clock hits two minutes\n",
    "        game_clock_at_two_minutes = last_two_minutes.iloc[0]['PCTIMESTRING']\n",
    "        real_time_at_two_minutes = last_two_minutes.iloc[0]['WCTIMESTRING']\n",
    "    else:\n",
    "        game_clock_at_two_minutes = \"No events recorded in the last two minutes\"\n",
    "        real_time_at_two_minutes = \"Two minutes has not hti yet\"\n",
    "\n",
    "    # Find the real-time when the game ends\n",
    "    game_end_time = last_two_minutes.iloc[-1]['PCTIMESTRING']\n",
    "    real_time_at_end = last_two_minutes.iloc[-1]['WCTIMESTRING']\n",
    "\n",
    "    # Convert game end time to datetime object\n",
    "    game_end_datetime = datetime.datetime.strptime(game_end_time, \"%M:%S\").time()\n",
    "    # realtime_at_two_min_datetime = datetime.datetime.strptime(real_time_at_two_minutes, \"%M:%S\").time()\n",
    "    # realtime_end_datetime = datetime.datetime.strptime(real_time_at_end, \"%M:%S\").time()\n",
    "\n",
    "    print(\"Real time when game clock hits two minutes:\", real_time_at_two_minutes)\n",
    "    print(\"Real time when game ends:\", real_time_at_end)\n",
    "\n",
    "    # Convert real time at two minutes and real time at end to datetime objects\n",
    "    real_time_at_two_minutes_datetime = datetime.datetime.strptime(real_time_at_two_minutes, \"%I:%M %p\")\n",
    "    real_time_at_end_datetime = datetime.datetime.strptime(real_time_at_end, \"%I:%M %p\")\n",
    "\n",
    "    # Subtract the two times to get the duration\n",
    "    real_time_duration = real_time_at_end_datetime - real_time_at_two_minutes_datetime\n",
    "\n",
    "    print(\"Duration of real time between two minutes and game end:\", real_time_duration)\n",
    "\n",
    "\n",
    "    return real_time_duration\n",
    "\n",
    "\n",
    "    \n"
   ]
  },
  {
   "cell_type": "code",
   "execution_count": 24,
   "metadata": {},
   "outputs": [],
   "source": [
    "import pandas as pd"
   ]
  },
  {
   "cell_type": "code",
   "execution_count": 26,
   "metadata": {},
   "outputs": [
    {
     "data": {
      "text/plain": [
       "gameId             0022301070\n",
       "homeTeamTricode           SAS\n",
       "awayTeamTricode           NYK\n",
       "dtype: object"
      ]
     },
     "metadata": {},
     "output_type": "display_data"
    },
    {
     "name": "stdout",
     "output_type": "stream",
     "text": [
      "Real time when game clock hits two minutes: 10:21 PM\n",
      "Real time when game ends: 10:28 PM\n",
      "Duration of real time between two minutes and game end: 0:07:00\n",
      "\n",
      "\n",
      "\n"
     ]
    },
    {
     "data": {
      "text/plain": [
       "gameId             0022301062\n",
       "homeTeamTricode           CHA\n",
       "awayTeamTricode           GSW\n",
       "dtype: object"
      ]
     },
     "metadata": {},
     "output_type": "display_data"
    },
    {
     "name": "stdout",
     "output_type": "stream",
     "text": [
      "Real time when game clock hits two minutes: 9:11 PM\n",
      "Real time when game ends: 9:14 PM\n",
      "Duration of real time between two minutes and game end: 0:03:00\n",
      "\n",
      "\n",
      "\n"
     ]
    },
    {
     "data": {
      "text/plain": [
       "gameId             0022301063\n",
       "homeTeamTricode           IND\n",
       "awayTeamTricode           LAL\n",
       "dtype: object"
      ]
     },
     "metadata": {},
     "output_type": "display_data"
    },
    {
     "name": "stdout",
     "output_type": "stream",
     "text": [
      "Real time when game clock hits two minutes: 9:15 PM\n",
      "Real time when game ends: 9:19 PM\n",
      "Duration of real time between two minutes and game end: 0:04:00\n",
      "\n",
      "\n",
      "\n"
     ]
    },
    {
     "data": {
      "text/plain": [
       "gameId             0022301064\n",
       "homeTeamTricode           ORL\n",
       "awayTeamTricode           LAC\n",
       "dtype: object"
      ]
     },
     "metadata": {},
     "output_type": "display_data"
    },
    {
     "name": "stdout",
     "output_type": "stream",
     "text": [
      "Real time when game clock hits two minutes: 9:12 PM\n",
      "Real time when game ends: 9:22 PM\n",
      "Duration of real time between two minutes and game end: 0:10:00\n",
      "\n",
      "\n",
      "\n"
     ]
    },
    {
     "data": {
      "text/plain": [
       "gameId             0022301065\n",
       "homeTeamTricode           WAS\n",
       "awayTeamTricode           DET\n",
       "dtype: object"
      ]
     },
     "metadata": {},
     "output_type": "display_data"
    },
    {
     "name": "stdout",
     "output_type": "stream",
     "text": [
      "Real time when game clock hits two minutes: 9:12 PM\n",
      "Real time when game ends: 9:16 PM\n",
      "Duration of real time between two minutes and game end: 0:04:00\n",
      "\n",
      "\n",
      "\n"
     ]
    },
    {
     "data": {
      "text/plain": [
       "gameId             0022301066\n",
       "homeTeamTricode           BKN\n",
       "awayTeamTricode           CHI\n",
       "dtype: object"
      ]
     },
     "metadata": {},
     "output_type": "display_data"
    },
    {
     "name": "stdout",
     "output_type": "stream",
     "text": [
      "Real time when game clock hits two minutes: 9:48 PM\n",
      "Real time when game ends: 9:56 PM\n",
      "Duration of real time between two minutes and game end: 0:08:00\n",
      "\n",
      "\n",
      "\n"
     ]
    },
    {
     "data": {
      "text/plain": [
       "gameId             0022301067\n",
       "homeTeamTricode           CLE\n",
       "awayTeamTricode           PHI\n",
       "dtype: object"
      ]
     },
     "metadata": {},
     "output_type": "display_data"
    },
    {
     "name": "stdout",
     "output_type": "stream",
     "text": [
      "Real time when game clock hits two minutes: 9:49 PM\n",
      "Real time when game ends: 10:01 PM\n",
      "Duration of real time between two minutes and game end: 0:12:00\n",
      "\n",
      "\n",
      "\n"
     ]
    },
    {
     "data": {
      "text/plain": [
       "gameId             0022301068\n",
       "homeTeamTricode           MIA\n",
       "awayTeamTricode           POR\n",
       "dtype: object"
      ]
     },
     "metadata": {},
     "output_type": "display_data"
    },
    {
     "name": "stdout",
     "output_type": "stream",
     "text": [
      "Real time when game clock hits two minutes: 10:07 PM\n",
      "Real time when game ends: 10:09 PM\n",
      "Duration of real time between two minutes and game end: 0:02:00\n",
      "\n",
      "\n",
      "\n"
     ]
    },
    {
     "data": {
      "text/plain": [
       "gameId             0022301069\n",
       "homeTeamTricode           OKC\n",
       "awayTeamTricode           PHX\n",
       "dtype: object"
      ]
     },
     "metadata": {},
     "output_type": "display_data"
    },
    {
     "name": "stdout",
     "output_type": "stream",
     "text": [
      "Real time when game clock hits two minutes: 10:17 PM\n",
      "Real time when game ends: 10:21 PM\n",
      "Duration of real time between two minutes and game end: 0:04:00\n",
      "\n",
      "\n",
      "\n"
     ]
    }
   ],
   "source": [
    "for game in games:\n",
    "    display(pd.Series(game))\n",
    "\n",
    "    time_last_two_minutes(game['gameId'])\n",
    "\n",
    "    print('\\n\\n')\n",
    "\n",
    "    "
   ]
  },
  {
   "cell_type": "code",
   "execution_count": 9,
   "metadata": {},
   "outputs": [],
   "source": [
    "\n",
    "\n",
    "# Game ID for the game you're interested in\n",
    "# game_id = '0022301062'#'0022301065'\n",
    "\n",
    "\n"
   ]
  },
  {
   "cell_type": "code",
   "execution_count": 10,
   "metadata": {},
   "outputs": [],
   "source": [
    "# # Let's inspect the DataFrame to find the appropriate column\n",
    "# print(play_by_play.head())\n",
    "# display(play_by_play.tail(10))"
   ]
  },
  {
   "cell_type": "code",
   "execution_count": 104,
   "metadata": {},
   "outputs": [
    {
     "data": {
      "text/plain": [
       "str"
      ]
     },
     "execution_count": 104,
     "metadata": {},
     "output_type": "execute_result"
    }
   ],
   "source": [
    "# type(play_by_play['PCTIMESTRING'][0])"
   ]
  },
  {
   "cell_type": "code",
   "execution_count": null,
   "metadata": {},
   "outputs": [],
   "source": []
  },
  {
   "cell_type": "code",
   "execution_count": null,
   "metadata": {},
   "outputs": [],
   "source": []
  },
  {
   "cell_type": "code",
   "execution_count": null,
   "metadata": {},
   "outputs": [],
   "source": []
  },
  {
   "cell_type": "code",
   "execution_count": 108,
   "metadata": {},
   "outputs": [
    {
     "name": "stdout",
     "output_type": "stream",
     "text": [
      "Duration of real time between two minutes and game end: 0:03:00\n"
     ]
    }
   ],
   "source": []
  },
  {
   "cell_type": "code",
   "execution_count": null,
   "metadata": {},
   "outputs": [],
   "source": []
  }
 ],
 "metadata": {
  "kernelspec": {
   "display_name": "Python 3",
   "language": "python",
   "name": "python3"
  },
  "language_info": {
   "codemirror_mode": {
    "name": "ipython",
    "version": 3
   },
   "file_extension": ".py",
   "mimetype": "text/x-python",
   "name": "python",
   "nbconvert_exporter": "python",
   "pygments_lexer": "ipython3",
   "version": "3.11.2"
  }
 },
 "nbformat": 4,
 "nbformat_minor": 2
}
